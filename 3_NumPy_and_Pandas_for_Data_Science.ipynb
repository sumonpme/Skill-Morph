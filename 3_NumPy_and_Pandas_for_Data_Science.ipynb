{
  "nbformat": 4,
  "nbformat_minor": 0,
  "metadata": {
    "colab": {
      "provenance": [],
      "include_colab_link": true
    },
    "kernelspec": {
      "name": "python3",
      "display_name": "Python 3"
    },
    "language_info": {
      "name": "python"
    }
  },
  "cells": [
    {
      "cell_type": "markdown",
      "metadata": {
        "id": "view-in-github",
        "colab_type": "text"
      },
      "source": [
        "<a href=\"https://colab.research.google.com/github/sumonpme/Skill-Morph/blob/main/3_NumPy_and_Pandas_for_Data_Science.ipynb\" target=\"_parent\"><img src=\"https://colab.research.google.com/assets/colab-badge.svg\" alt=\"Open In Colab\"/></a>"
      ]
    },
    {
      "cell_type": "code",
      "execution_count": null,
      "metadata": {
        "colab": {
          "base_uri": "https://localhost:8080/"
        },
        "id": "_ALye9hQFAtJ",
        "outputId": "bcf237fd-5aa0-4192-d5b2-869b86b77be0"
      },
      "outputs": [
        {
          "output_type": "stream",
          "name": "stdout",
          "text": [
            "Requirement already satisfied: numpy in /usr/local/lib/python3.12/dist-packages (2.0.2)\n",
            "Requirement already satisfied: pandas in /usr/local/lib/python3.12/dist-packages (2.2.2)\n",
            "Requirement already satisfied: matplotlib in /usr/local/lib/python3.12/dist-packages (3.10.0)\n",
            "Requirement already satisfied: python-dateutil>=2.8.2 in /usr/local/lib/python3.12/dist-packages (from pandas) (2.9.0.post0)\n",
            "Requirement already satisfied: pytz>=2020.1 in /usr/local/lib/python3.12/dist-packages (from pandas) (2025.2)\n",
            "Requirement already satisfied: tzdata>=2022.7 in /usr/local/lib/python3.12/dist-packages (from pandas) (2025.2)\n",
            "Requirement already satisfied: contourpy>=1.0.1 in /usr/local/lib/python3.12/dist-packages (from matplotlib) (1.3.3)\n",
            "Requirement already satisfied: cycler>=0.10 in /usr/local/lib/python3.12/dist-packages (from matplotlib) (0.12.1)\n",
            "Requirement already satisfied: fonttools>=4.22.0 in /usr/local/lib/python3.12/dist-packages (from matplotlib) (4.59.1)\n",
            "Requirement already satisfied: kiwisolver>=1.3.1 in /usr/local/lib/python3.12/dist-packages (from matplotlib) (1.4.9)\n",
            "Requirement already satisfied: packaging>=20.0 in /usr/local/lib/python3.12/dist-packages (from matplotlib) (25.0)\n",
            "Requirement already satisfied: pillow>=8 in /usr/local/lib/python3.12/dist-packages (from matplotlib) (11.3.0)\n",
            "Requirement already satisfied: pyparsing>=2.3.1 in /usr/local/lib/python3.12/dist-packages (from matplotlib) (3.2.3)\n",
            "Requirement already satisfied: six>=1.5 in /usr/local/lib/python3.12/dist-packages (from python-dateutil>=2.8.2->pandas) (1.17.0)\n",
            "NumPy version: 2.0.2\n",
            "Pandas version: 2.2.2\n"
          ]
        }
      ],
      "source": [
        "# Install required packages (run this first in Google Colab)\n",
        "!pip install numpy pandas matplotlib\n",
        "\n",
        "# Import libraries\n",
        "import numpy as np\n",
        "import pandas as pd\n",
        "import matplotlib.pyplot as plt\n",
        "from google.colab import drive\n",
        "import warnings\n",
        "warnings.filterwarnings('ignore')\n",
        "\n",
        "print(\"NumPy version:\", np.__version__)\n",
        "print(\"Pandas version:\", pd.__version__)"
      ]
    },
    {
      "cell_type": "code",
      "source": [
        "!pip install numpy pandas matplotlib\n",
        "\n",
        "# Import libraries\n",
        "import numpy as np\n",
        "import pandas as pd\n",
        "print(\"numpy version\", np.__version__)\n",
        "print(\"pandas version\", pd.__version__)"
      ],
      "metadata": {
        "colab": {
          "base_uri": "https://localhost:8080/"
        },
        "id": "awE4rVF7IWfc",
        "outputId": "0fdf6379-c002-4c8c-baa1-0d4f80f8c980"
      },
      "execution_count": null,
      "outputs": [
        {
          "output_type": "stream",
          "name": "stdout",
          "text": [
            "Requirement already satisfied: numpy in /usr/local/lib/python3.12/dist-packages (2.0.2)\n",
            "Requirement already satisfied: pandas in /usr/local/lib/python3.12/dist-packages (2.2.2)\n",
            "Requirement already satisfied: matplotlib in /usr/local/lib/python3.12/dist-packages (3.10.0)\n",
            "Requirement already satisfied: python-dateutil>=2.8.2 in /usr/local/lib/python3.12/dist-packages (from pandas) (2.9.0.post0)\n",
            "Requirement already satisfied: pytz>=2020.1 in /usr/local/lib/python3.12/dist-packages (from pandas) (2025.2)\n",
            "Requirement already satisfied: tzdata>=2022.7 in /usr/local/lib/python3.12/dist-packages (from pandas) (2025.2)\n",
            "Requirement already satisfied: contourpy>=1.0.1 in /usr/local/lib/python3.12/dist-packages (from matplotlib) (1.3.3)\n",
            "Requirement already satisfied: cycler>=0.10 in /usr/local/lib/python3.12/dist-packages (from matplotlib) (0.12.1)\n",
            "Requirement already satisfied: fonttools>=4.22.0 in /usr/local/lib/python3.12/dist-packages (from matplotlib) (4.59.1)\n",
            "Requirement already satisfied: kiwisolver>=1.3.1 in /usr/local/lib/python3.12/dist-packages (from matplotlib) (1.4.9)\n",
            "Requirement already satisfied: packaging>=20.0 in /usr/local/lib/python3.12/dist-packages (from matplotlib) (25.0)\n",
            "Requirement already satisfied: pillow>=8 in /usr/local/lib/python3.12/dist-packages (from matplotlib) (11.3.0)\n",
            "Requirement already satisfied: pyparsing>=2.3.1 in /usr/local/lib/python3.12/dist-packages (from matplotlib) (3.2.3)\n",
            "Requirement already satisfied: six>=1.5 in /usr/local/lib/python3.12/dist-packages (from python-dateutil>=2.8.2->pandas) (1.17.0)\n",
            "numpy version 2.0.2\n",
            "pandas version 2.2.2\n"
          ]
        }
      ]
    },
    {
      "cell_type": "code",
      "source": [
        "# Creating NumPy arrays\n",
        "arr1 = np.array([1, 2, 3, 4, 5])\n",
        "arr2 = np.array([[1, 2, 3], [4, 5, 6]])\n",
        "\n",
        "print(\"1D Array:\", arr1)\n",
        "print(\"2D Array:\\n\", arr2)\n",
        "print(\"Array shape:\", arr2.shape)\n",
        "print(\"Array dtype:\", arr1.dtype)\n",
        "\n",
        "# Different ways to create arrays\n",
        "zeros_array = np.zeros((3, 4))\n",
        "ones_array = np.ones((2, 3))\n",
        "range_array = np.arange(0, 10, 2)\n",
        "linspace_array = np.linspace(0, 1, 5)\n",
        "\n",
        "print(\"Zeros array:\\n\", zeros_array)\n",
        "print(\"Ones array:\\n\", ones_array)\n",
        "print(\"Range array:\", range_array)\n",
        "print(\"Linspace array:\", linspace_array)"
      ],
      "metadata": {
        "colab": {
          "base_uri": "https://localhost:8080/"
        },
        "id": "bTv0BLvYFYcQ",
        "outputId": "b187baff-6295-46e3-ebce-16ce9b4e46bf"
      },
      "execution_count": null,
      "outputs": [
        {
          "output_type": "stream",
          "name": "stdout",
          "text": [
            "1D Array: [1 2 3 4 5]\n",
            "2D Array:\n",
            " [[1 2 3]\n",
            " [4 5 6]]\n",
            "Array shape: (2, 3)\n",
            "Array dtype: int64\n",
            "Zeros array:\n",
            " [[0. 0. 0. 0.]\n",
            " [0. 0. 0. 0.]\n",
            " [0. 0. 0. 0.]]\n",
            "Ones array:\n",
            " [[1. 1. 1.]\n",
            " [1. 1. 1.]]\n",
            "Range array: [0 2 4 6 8]\n",
            "Linspace array: [0.   0.25 0.5  0.75 1.  ]\n"
          ]
        }
      ]
    },
    {
      "cell_type": "code",
      "source": [
        "# Mathematical operations on arrays\n",
        "a = np.array([1, 2, 3, 4, 5])\n",
        "b = np.array([2, 3, 4, 5, 6])\n",
        "\n",
        "# Element-wise operations\n",
        "print(\"Addition:\", a + b)\n",
        "print(\"Multiplication:\", a * b)\n",
        "print(\"Power:\", a ** 2)\n",
        "print(\"Square root:\", np.sqrt(a))\n",
        "\n",
        "# Statistical operations\n",
        "print(\"Mean:\", np.mean(a))\n",
        "print(\"Standard deviation:\", np.std(a))\n",
        "print(\"Min:\", np.min(a))\n",
        "print(\"Max:\", np.max(a))\n",
        "\n",
        "# Broadcasting example\n",
        "matrix = np.array([[1, 2, 3], [4, 5, 6]])\n",
        "vector = np.array([10, 20, 30])\n",
        "result = matrix + vector\n",
        "print(\"Broadcasting result:\\n\", result)"
      ],
      "metadata": {
        "colab": {
          "base_uri": "https://localhost:8080/"
        },
        "id": "pZdWIA1YGKXu",
        "outputId": "a7b3a900-df36-4a66-cab6-1efb10cc4c96"
      },
      "execution_count": null,
      "outputs": [
        {
          "output_type": "stream",
          "name": "stdout",
          "text": [
            "Addition: [ 3  5  7  9 11]\n",
            "Multiplication: [ 2  6 12 20 30]\n",
            "Power: [ 1  4  9 16 25]\n",
            "Square root: [1.         1.41421356 1.73205081 2.         2.23606798]\n",
            "Mean: 3.0\n",
            "Standard deviation: 1.4142135623730951\n",
            "Min: 1\n",
            "Max: 5\n",
            "Broadcasting result:\n",
            " [[11 22 33]\n",
            " [14 25 36]]\n"
          ]
        }
      ]
    },
    {
      "cell_type": "code",
      "source": [
        "arr = np.array([10, 20, 30, 40, 50])\n",
        "\n",
        "# Indexing\n",
        "print(\"Element at index 2:\", arr[2])\n",
        "\n",
        "# Slicing\n",
        "print(\"Sliced array (from index 1 to 3):\", arr[1:])\n",
        "\n",
        "# 2D array slicing\n",
        "arr_2d = np.array([[1, 2, 3], [4, 5, 6], [7, 8, 9]])\n",
        "print(\"Sliced 2D array (first two rows):\\n\", arr_2d[:2])"
      ],
      "metadata": {
        "colab": {
          "base_uri": "https://localhost:8080/"
        },
        "id": "pDTr0wmTG976",
        "outputId": "7c91cb6c-e971-4a17-fb4d-19215fdf86d2"
      },
      "execution_count": null,
      "outputs": [
        {
          "output_type": "stream",
          "name": "stdout",
          "text": [
            "Element at index 2: 30\n",
            "Sliced array (from index 1 to 3): [20 30 40 50]\n",
            "Sliced 2D array (first two rows):\n",
            " [[1 2 3]\n",
            " [4 5 6]]\n"
          ]
        }
      ]
    },
    {
      "cell_type": "code",
      "source": [
        "data = {'Name': ['Alice', 'Bob', 'Charlie'],\n",
        "        'Age': [24, 27, 22],\n",
        "        'City': ['New York', 'Los Angeles', 'Chicago']}\n",
        "\n",
        "df = pd.DataFrame(data)\n",
        "print(\"DataFrame:\\n\", df)\n"
      ],
      "metadata": {
        "colab": {
          "base_uri": "https://localhost:8080/"
        },
        "id": "6g6BQO-ZHW3-",
        "outputId": "8a021de4-66f2-44f6-fc6d-065ac8cba338"
      },
      "execution_count": null,
      "outputs": [
        {
          "output_type": "stream",
          "name": "stdout",
          "text": [
            "DataFrame:\n",
            "       Name  Age         City\n",
            "0    Alice   24     New York\n",
            "1      Bob   27  Los Angeles\n",
            "2  Charlie   22      Chicago\n"
          ]
        }
      ]
    },
    {
      "cell_type": "code",
      "source": [
        "# Basic DataFrame information\n",
        "print(\"\\nDataFrame Info:\")\n",
        "print(df.info())\n",
        "print(\"\\nDataFrame Description:\")\n",
        "print(df.describe())\n",
        "print(\"\\nDataFrame Shape:\", df.shape)\n",
        "print(\"Column names:\", df.columns.tolist())\n",
        "# Display first 5 rows\n",
        "print(\"First 5 rows of the dataset:\")\n",
        "print(df.head())\n",
        "# Display last 5 rows\n",
        "print(\"\\nLast 5 rows of the dataset:\")\n",
        "print(df.tail())\n",
        "# Check data types\n",
        "print(\"\\nData Types:\")\n",
        "print(df.dtypes)"
      ],
      "metadata": {
        "colab": {
          "base_uri": "https://localhost:8080/"
        },
        "id": "dA43axBxMJA-",
        "outputId": "476cc634-6d2b-42bb-9dbb-8e3d81ddc5a2"
      },
      "execution_count": null,
      "outputs": [
        {
          "output_type": "stream",
          "name": "stdout",
          "text": [
            "\n",
            "DataFrame Info:\n",
            "<class 'pandas.core.frame.DataFrame'>\n",
            "RangeIndex: 3 entries, 0 to 2\n",
            "Data columns (total 3 columns):\n",
            " #   Column  Non-Null Count  Dtype \n",
            "---  ------  --------------  ----- \n",
            " 0   Name    3 non-null      object\n",
            " 1   Age     3 non-null      int64 \n",
            " 2   City    3 non-null      object\n",
            "dtypes: int64(1), object(2)\n",
            "memory usage: 204.0+ bytes\n",
            "None\n",
            "\n",
            "DataFrame Description:\n",
            "             Age\n",
            "count   3.000000\n",
            "mean   24.333333\n",
            "std     2.516611\n",
            "min    22.000000\n",
            "25%    23.000000\n",
            "50%    24.000000\n",
            "75%    25.500000\n",
            "max    27.000000\n",
            "\n",
            "DataFrame Shape: (3, 3)\n",
            "Column names: ['Name', 'Age', 'City']\n",
            "First 5 rows of the dataset:\n",
            "      Name  Age         City\n",
            "0    Alice   24     New York\n",
            "1      Bob   27  Los Angeles\n",
            "2  Charlie   22      Chicago\n",
            "\n",
            "Last 5 rows of the dataset:\n",
            "      Name  Age         City\n",
            "0    Alice   24     New York\n",
            "1      Bob   27  Los Angeles\n",
            "2  Charlie   22      Chicago\n",
            "\n",
            "Data Types:\n",
            "Name    object\n",
            "Age      int64\n",
            "City    object\n",
            "dtype: object\n"
          ]
        }
      ]
    },
    {
      "cell_type": "code",
      "source": [
        "# Accessing a single column\n",
        "print(\"Names column:\\n\", df['Name'])\n",
        "\n",
        "# Accessing multiple columns\n",
        "print(\"\\nName and Age columns:\\n\", df[['Name', 'Age']])\n",
        "\n",
        "# Accessing rows using .loc[] (by label)\n",
        "print(\"\\nRow 1:\\n\", df.loc[0])\n",
        "\n",
        "# Accessing rows using .iloc[] (by position)\n",
        "print(\"\\nRow at position 1:\\n\", df.iloc[1])"
      ],
      "metadata": {
        "colab": {
          "base_uri": "https://localhost:8080/"
        },
        "id": "15pqTpPRIJQb",
        "outputId": "7c88da88-1f47-4fac-9a00-5348b6c810e6"
      },
      "execution_count": null,
      "outputs": [
        {
          "output_type": "stream",
          "name": "stdout",
          "text": [
            "Names column:\n",
            " 0      Alice\n",
            "1        Bob\n",
            "2    Charlie\n",
            "Name: Name, dtype: object\n",
            "\n",
            "Name and Age columns:\n",
            "       Name  Age\n",
            "0    Alice   24\n",
            "1      Bob   27\n",
            "2  Charlie   22\n",
            "\n",
            "Row 1:\n",
            " Name       Alice\n",
            "Age           24\n",
            "City    New York\n",
            "Name: 0, dtype: object\n",
            "\n",
            "Row at position 1:\n",
            " Name            Bob\n",
            "Age              27\n",
            "City    Los Angeles\n",
            "Name: 1, dtype: object\n"
          ]
        }
      ]
    },
    {
      "cell_type": "code",
      "source": [
        "df_with_na = df.copy()\n",
        "df_with_na.loc[1, 'Age'] = None\n",
        "\n",
        "print(\"DataFrame with NaN:\\n\", df_with_na)\n",
        "\n",
        "# Filling missing values\n",
        "df_with_na['Age'] = df_with_na['Age'].fillna(df_with_na['Age'].mean())\n",
        "print(\"\\nDataFrame after filling NaN:\\n\", df_with_na)\n",
        "\n",
        "# Dropping rows with NaN values\n",
        "df_cleaned = df_with_na.dropna()\n",
        "print(\"\\nDataFrame after dropping rows with NaN:\\n\", df_cleaned)"
      ],
      "metadata": {
        "colab": {
          "base_uri": "https://localhost:8080/"
        },
        "id": "_R1CKttzI99l",
        "outputId": "655ad29b-9792-422c-f0f6-2b15cb8a319e"
      },
      "execution_count": null,
      "outputs": [
        {
          "output_type": "stream",
          "name": "stdout",
          "text": [
            "DataFrame with NaN:\n",
            "       Name   Age         City\n",
            "0    Alice  24.0     New York\n",
            "1      Bob   NaN  Los Angeles\n",
            "2  Charlie  22.0      Chicago\n",
            "\n",
            "DataFrame after filling NaN:\n",
            "       Name   Age         City\n",
            "0    Alice  24.0     New York\n",
            "1      Bob  23.0  Los Angeles\n",
            "2  Charlie  22.0      Chicago\n",
            "\n",
            "DataFrame after dropping rows with NaN:\n",
            "       Name   Age         City\n",
            "0    Alice  24.0     New York\n",
            "1      Bob  23.0  Los Angeles\n",
            "2  Charlie  22.0      Chicago\n"
          ]
        }
      ]
    },
    {
      "cell_type": "code",
      "source": [
        "# Convert NumPy array to DataFrame\n",
        "np_array = np.random.randn(5, 3)\n",
        "df_from_array = pd.DataFrame(np_array, columns=['A', 'B', 'C'])\n",
        "print(\"DataFrame from NumPy array:\")\n",
        "print(df_from_array)"
      ],
      "metadata": {
        "colab": {
          "base_uri": "https://localhost:8080/"
        },
        "id": "WurRzalOKlbT",
        "outputId": "7e702e8f-d331-4a5e-c79b-c030a1de18b6"
      },
      "execution_count": null,
      "outputs": [
        {
          "output_type": "stream",
          "name": "stdout",
          "text": [
            "DataFrame from NumPy array:\n",
            "          A         B         C\n",
            "0  0.510335 -0.212491 -0.742343\n",
            "1 -0.707240 -0.367356  0.202099\n",
            "2  1.266935 -0.258207 -0.567769\n",
            "3  0.323219 -0.739282  0.288812\n",
            "4  0.518891  1.140557  1.030817\n",
            "\n",
            "NumPy array from DataFrame:\n",
            "[[24]\n",
            " [27]\n",
            " [22]]\n",
            "\n",
            "DataFrame Info:\n",
            "<class 'pandas.core.frame.DataFrame'>\n",
            "RangeIndex: 3 entries, 0 to 2\n",
            "Data columns (total 3 columns):\n",
            " #   Column  Non-Null Count  Dtype \n",
            "---  ------  --------------  ----- \n",
            " 0   Name    3 non-null      object\n",
            " 1   Age     3 non-null      int64 \n",
            " 2   City    3 non-null      object\n",
            "dtypes: int64(1), object(2)\n",
            "memory usage: 204.0+ bytes\n",
            "None\n",
            "\n",
            "DataFrame Description:\n",
            "             Age\n",
            "count   3.000000\n",
            "mean   24.333333\n",
            "std     2.516611\n",
            "min    22.000000\n",
            "25%    23.000000\n",
            "50%    24.000000\n",
            "75%    25.500000\n",
            "max    27.000000\n",
            "\n",
            "DataFrame Shape: (3, 3)\n",
            "Column names: ['Name', 'Age', 'City']\n"
          ]
        }
      ]
    },
    {
      "cell_type": "code",
      "source": [
        "# Create sample sales data\n",
        "sales_data = {\n",
        "    'Region': ['North', 'South', 'East', 'West', 'North', 'South', 'East', 'West'],\n",
        "    'Product': ['A', 'A', 'B', 'B', 'A', 'B', 'A', 'B'],\n",
        "    'Sales': [100, 150, 200, 120, 110, 180, 190, 140],\n",
        "    'Quantity': [10, 15, 20, 12, 11, 18, 19, 14]\n",
        "}\n",
        "sales_df = pd.DataFrame(sales_data)\n",
        "print(\"Sales DataFrame:\")\n",
        "print(sales_df)\n",
        "\n",
        "# Group by operations\n",
        "region_sales = sales_df.groupby('Region')['Sales'].sum()\n",
        "print(\"\\nSales by Region:\")\n",
        "print(region_sales)\n",
        "\n",
        "# Multiple groupby\n",
        "product_region = sales_df.groupby(['Region', 'Product'])['Sales'].agg(['sum', 'mean', 'count'])\n",
        "print(\"\\nSales by Region and Product:\")\n",
        "print(product_region)"
      ],
      "metadata": {
        "colab": {
          "base_uri": "https://localhost:8080/"
        },
        "id": "cb-fx07CM4hU",
        "outputId": "a8f2d16a-0ca7-4cfa-996a-3b5818833588"
      },
      "execution_count": null,
      "outputs": [
        {
          "output_type": "stream",
          "name": "stdout",
          "text": [
            "Sales DataFrame:\n",
            "  Region Product  Sales  Quantity\n",
            "0  North       A    100        10\n",
            "1  South       A    150        15\n",
            "2   East       B    200        20\n",
            "3   West       B    120        12\n",
            "4  North       A    110        11\n",
            "5  South       B    180        18\n",
            "6   East       A    190        19\n",
            "7   West       B    140        14\n",
            "\n",
            "Sales by Region:\n",
            "Region\n",
            "East     390\n",
            "North    210\n",
            "South    330\n",
            "West     260\n",
            "Name: Sales, dtype: int64\n",
            "\n",
            "Sales by Region and Product:\n",
            "                sum   mean  count\n",
            "Region Product                   \n",
            "East   A        190  190.0      1\n",
            "       B        200  200.0      1\n",
            "North  A        210  105.0      2\n",
            "South  A        150  150.0      1\n",
            "       B        180  180.0      1\n",
            "West   B        260  130.0      2\n"
          ]
        }
      ]
    },
    {
      "cell_type": "code",
      "source": [
        "# Create sample DataFrames for merging\n",
        "df1 = pd.DataFrame({\n",
        "    'ID': [1, 2, 3, 4],\n",
        "    'Name': ['Alice', 'Bob', 'Charlie', 'David'],\n",
        "    'Department': ['IT', 'HR', 'Finance', 'IT']\n",
        "})\n",
        "\n",
        "df2 = pd.DataFrame({\n",
        "    'ID': [1, 2, 5, 6],\n",
        "    'Salary': [50000, 60000, 70000, 80000],\n",
        "    'Experience': [2, 5, 3, 8]\n",
        "})\n",
        "\n",
        "print(\"DataFrame 1:\")\n",
        "print(df1)\n",
        "print(\"\\nDataFrame 2:\")\n",
        "print(df2)\n",
        "\n",
        "# Different types of merges\n",
        "inner_merge = pd.merge(df1, df2, on='ID', how='inner')\n",
        "print(\"\\nInner merge:\")\n",
        "print(inner_merge)\n",
        "\n",
        "left_merge = pd.merge(df1, df2, on='ID', how='left')\n",
        "print(\"\\nLeft merge:\")\n",
        "print(left_merge)\n",
        "\n",
        "right_merge = pd.merge(df1, df2, on='ID', how='right')\n",
        "print(\"\\nRight merge:\")\n",
        "print(right_merge)\n",
        "\n",
        "outer_merge = pd.merge(df1, df2, on='ID', how='outer')\n",
        "print(\"\\nOuter merge:\")\n",
        "print(outer_merge)\n",
        "\n",
        "# Concatenation\n",
        "df_concat = pd.concat([df1, df2], ignore_index=True, sort=False)\n",
        "print(\"\\nConcatenated DataFrame:\")\n",
        "print(df_concat)"
      ],
      "metadata": {
        "colab": {
          "base_uri": "https://localhost:8080/"
        },
        "id": "91pDCKOQNjs0",
        "outputId": "6dcb4464-e7ca-482c-9df1-6ef78b7a5dac"
      },
      "execution_count": null,
      "outputs": [
        {
          "output_type": "stream",
          "name": "stdout",
          "text": [
            "DataFrame 1:\n",
            "   ID     Name Department\n",
            "0   1    Alice         IT\n",
            "1   2      Bob         HR\n",
            "2   3  Charlie    Finance\n",
            "3   4    David         IT\n",
            "\n",
            "DataFrame 2:\n",
            "   ID  Salary  Experience\n",
            "0   1   50000           2\n",
            "1   2   60000           5\n",
            "2   5   70000           3\n",
            "3   6   80000           8\n",
            "\n",
            "Inner merge:\n",
            "   ID   Name Department  Salary  Experience\n",
            "0   1  Alice         IT   50000           2\n",
            "1   2    Bob         HR   60000           5\n",
            "\n",
            "Left merge:\n",
            "   ID     Name Department   Salary  Experience\n",
            "0   1    Alice         IT  50000.0         2.0\n",
            "1   2      Bob         HR  60000.0         5.0\n",
            "2   3  Charlie    Finance      NaN         NaN\n",
            "3   4    David         IT      NaN         NaN\n",
            "\n",
            "Right merge:\n",
            "   ID   Name Department  Salary  Experience\n",
            "0   1  Alice         IT   50000           2\n",
            "1   2    Bob         HR   60000           5\n",
            "2   5    NaN        NaN   70000           3\n",
            "3   6    NaN        NaN   80000           8\n",
            "\n",
            "Outer merge:\n",
            "   ID     Name Department   Salary  Experience\n",
            "0   1    Alice         IT  50000.0         2.0\n",
            "1   2      Bob         HR  60000.0         5.0\n",
            "2   3  Charlie    Finance      NaN         NaN\n",
            "3   4    David         IT      NaN         NaN\n",
            "4   5      NaN        NaN  70000.0         3.0\n",
            "5   6      NaN        NaN  80000.0         8.0\n",
            "\n",
            "Concatenated DataFrame:\n",
            "   ID     Name Department   Salary  Experience\n",
            "0   1    Alice         IT      NaN         NaN\n",
            "1   2      Bob         HR      NaN         NaN\n",
            "2   3  Charlie    Finance      NaN         NaN\n",
            "3   4    David         IT      NaN         NaN\n",
            "4   1      NaN        NaN  50000.0         2.0\n",
            "5   2      NaN        NaN  60000.0         5.0\n",
            "6   5      NaN        NaN  70000.0         3.0\n",
            "7   6      NaN        NaN  80000.0         8.0\n"
          ]
        }
      ]
    },
    {
      "cell_type": "code",
      "source": [
        "drive.mount('/content/drive')\n",
        "file_path = '/content/drive/MyDrive/datasets/diabetes.csv'\n",
        "columns = ['Pregnancies', 'Glucose', 'BloodPressure', 'SkinThickness', 'Insulin', 'BMI', 'DiabetesPedigreeFunction', 'Age', 'Outcome']\n",
        "df = pd.read_csv(file_path, names=columns)  # No header in raw CSV\n",
        "print(\"Dataset loaded successfully. Shape:\", df.shape)"
      ],
      "metadata": {
        "colab": {
          "base_uri": "https://localhost:8080/"
        },
        "id": "q2etIln3P4TA",
        "outputId": "bc95871a-02b8-4d5b-f87b-1941fa370096"
      },
      "execution_count": null,
      "outputs": [
        {
          "output_type": "stream",
          "name": "stdout",
          "text": [
            "Drive already mounted at /content/drive; to attempt to forcibly remount, call drive.mount(\"/content/drive\", force_remount=True).\n",
            "Dataset loaded successfully. Shape: (769, 9)\n"
          ]
        }
      ]
    },
    {
      "cell_type": "code",
      "source": [
        "from google.colab import files\n",
        "uploaded = files.upload()\n",
        "\n",
        "# Load the uploaded file\n",
        "import io\n",
        "df = pd.read_csv(io.BytesIO(uploaded['diabetesversion1.csv']))"
      ],
      "metadata": {
        "colab": {
          "base_uri": "https://localhost:8080/",
          "height": 73
        },
        "id": "B5CWs8QnQb2n",
        "outputId": "4a307641-8ac3-4ef2-8ee9-e58c83447e63"
      },
      "execution_count": null,
      "outputs": [
        {
          "output_type": "display_data",
          "data": {
            "text/plain": [
              "<IPython.core.display.HTML object>"
            ],
            "text/html": [
              "\n",
              "     <input type=\"file\" id=\"files-264dae8e-fbcb-43ee-8415-96ff5dfc14db\" name=\"files[]\" multiple disabled\n",
              "        style=\"border:none\" />\n",
              "     <output id=\"result-264dae8e-fbcb-43ee-8415-96ff5dfc14db\">\n",
              "      Upload widget is only available when the cell has been executed in the\n",
              "      current browser session. Please rerun this cell to enable.\n",
              "      </output>\n",
              "      <script>// Copyright 2017 Google LLC\n",
              "//\n",
              "// Licensed under the Apache License, Version 2.0 (the \"License\");\n",
              "// you may not use this file except in compliance with the License.\n",
              "// You may obtain a copy of the License at\n",
              "//\n",
              "//      http://www.apache.org/licenses/LICENSE-2.0\n",
              "//\n",
              "// Unless required by applicable law or agreed to in writing, software\n",
              "// distributed under the License is distributed on an \"AS IS\" BASIS,\n",
              "// WITHOUT WARRANTIES OR CONDITIONS OF ANY KIND, either express or implied.\n",
              "// See the License for the specific language governing permissions and\n",
              "// limitations under the License.\n",
              "\n",
              "/**\n",
              " * @fileoverview Helpers for google.colab Python module.\n",
              " */\n",
              "(function(scope) {\n",
              "function span(text, styleAttributes = {}) {\n",
              "  const element = document.createElement('span');\n",
              "  element.textContent = text;\n",
              "  for (const key of Object.keys(styleAttributes)) {\n",
              "    element.style[key] = styleAttributes[key];\n",
              "  }\n",
              "  return element;\n",
              "}\n",
              "\n",
              "// Max number of bytes which will be uploaded at a time.\n",
              "const MAX_PAYLOAD_SIZE = 100 * 1024;\n",
              "\n",
              "function _uploadFiles(inputId, outputId) {\n",
              "  const steps = uploadFilesStep(inputId, outputId);\n",
              "  const outputElement = document.getElementById(outputId);\n",
              "  // Cache steps on the outputElement to make it available for the next call\n",
              "  // to uploadFilesContinue from Python.\n",
              "  outputElement.steps = steps;\n",
              "\n",
              "  return _uploadFilesContinue(outputId);\n",
              "}\n",
              "\n",
              "// This is roughly an async generator (not supported in the browser yet),\n",
              "// where there are multiple asynchronous steps and the Python side is going\n",
              "// to poll for completion of each step.\n",
              "// This uses a Promise to block the python side on completion of each step,\n",
              "// then passes the result of the previous step as the input to the next step.\n",
              "function _uploadFilesContinue(outputId) {\n",
              "  const outputElement = document.getElementById(outputId);\n",
              "  const steps = outputElement.steps;\n",
              "\n",
              "  const next = steps.next(outputElement.lastPromiseValue);\n",
              "  return Promise.resolve(next.value.promise).then((value) => {\n",
              "    // Cache the last promise value to make it available to the next\n",
              "    // step of the generator.\n",
              "    outputElement.lastPromiseValue = value;\n",
              "    return next.value.response;\n",
              "  });\n",
              "}\n",
              "\n",
              "/**\n",
              " * Generator function which is called between each async step of the upload\n",
              " * process.\n",
              " * @param {string} inputId Element ID of the input file picker element.\n",
              " * @param {string} outputId Element ID of the output display.\n",
              " * @return {!Iterable<!Object>} Iterable of next steps.\n",
              " */\n",
              "function* uploadFilesStep(inputId, outputId) {\n",
              "  const inputElement = document.getElementById(inputId);\n",
              "  inputElement.disabled = false;\n",
              "\n",
              "  const outputElement = document.getElementById(outputId);\n",
              "  outputElement.innerHTML = '';\n",
              "\n",
              "  const pickedPromise = new Promise((resolve) => {\n",
              "    inputElement.addEventListener('change', (e) => {\n",
              "      resolve(e.target.files);\n",
              "    });\n",
              "  });\n",
              "\n",
              "  const cancel = document.createElement('button');\n",
              "  inputElement.parentElement.appendChild(cancel);\n",
              "  cancel.textContent = 'Cancel upload';\n",
              "  const cancelPromise = new Promise((resolve) => {\n",
              "    cancel.onclick = () => {\n",
              "      resolve(null);\n",
              "    };\n",
              "  });\n",
              "\n",
              "  // Wait for the user to pick the files.\n",
              "  const files = yield {\n",
              "    promise: Promise.race([pickedPromise, cancelPromise]),\n",
              "    response: {\n",
              "      action: 'starting',\n",
              "    }\n",
              "  };\n",
              "\n",
              "  cancel.remove();\n",
              "\n",
              "  // Disable the input element since further picks are not allowed.\n",
              "  inputElement.disabled = true;\n",
              "\n",
              "  if (!files) {\n",
              "    return {\n",
              "      response: {\n",
              "        action: 'complete',\n",
              "      }\n",
              "    };\n",
              "  }\n",
              "\n",
              "  for (const file of files) {\n",
              "    const li = document.createElement('li');\n",
              "    li.append(span(file.name, {fontWeight: 'bold'}));\n",
              "    li.append(span(\n",
              "        `(${file.type || 'n/a'}) - ${file.size} bytes, ` +\n",
              "        `last modified: ${\n",
              "            file.lastModifiedDate ? file.lastModifiedDate.toLocaleDateString() :\n",
              "                                    'n/a'} - `));\n",
              "    const percent = span('0% done');\n",
              "    li.appendChild(percent);\n",
              "\n",
              "    outputElement.appendChild(li);\n",
              "\n",
              "    const fileDataPromise = new Promise((resolve) => {\n",
              "      const reader = new FileReader();\n",
              "      reader.onload = (e) => {\n",
              "        resolve(e.target.result);\n",
              "      };\n",
              "      reader.readAsArrayBuffer(file);\n",
              "    });\n",
              "    // Wait for the data to be ready.\n",
              "    let fileData = yield {\n",
              "      promise: fileDataPromise,\n",
              "      response: {\n",
              "        action: 'continue',\n",
              "      }\n",
              "    };\n",
              "\n",
              "    // Use a chunked sending to avoid message size limits. See b/62115660.\n",
              "    let position = 0;\n",
              "    do {\n",
              "      const length = Math.min(fileData.byteLength - position, MAX_PAYLOAD_SIZE);\n",
              "      const chunk = new Uint8Array(fileData, position, length);\n",
              "      position += length;\n",
              "\n",
              "      const base64 = btoa(String.fromCharCode.apply(null, chunk));\n",
              "      yield {\n",
              "        response: {\n",
              "          action: 'append',\n",
              "          file: file.name,\n",
              "          data: base64,\n",
              "        },\n",
              "      };\n",
              "\n",
              "      let percentDone = fileData.byteLength === 0 ?\n",
              "          100 :\n",
              "          Math.round((position / fileData.byteLength) * 100);\n",
              "      percent.textContent = `${percentDone}% done`;\n",
              "\n",
              "    } while (position < fileData.byteLength);\n",
              "  }\n",
              "\n",
              "  // All done.\n",
              "  yield {\n",
              "    response: {\n",
              "      action: 'complete',\n",
              "    }\n",
              "  };\n",
              "}\n",
              "\n",
              "scope.google = scope.google || {};\n",
              "scope.google.colab = scope.google.colab || {};\n",
              "scope.google.colab._files = {\n",
              "  _uploadFiles,\n",
              "  _uploadFilesContinue,\n",
              "};\n",
              "})(self);\n",
              "</script> "
            ]
          },
          "metadata": {}
        },
        {
          "output_type": "stream",
          "name": "stdout",
          "text": [
            "Saving diabetesversion1.csv to diabetesversion1.csv\n"
          ]
        }
      ]
    },
    {
      "cell_type": "code",
      "source": [
        "data_array = df.values\n",
        "print(\"NumPy array shape:\", data_array.shape)\n",
        "print(\"Data type:\", data_array.dtype)\n",
        "\n",
        "# Get specific columns as arrays\n",
        "glucose = df['Glucose'].values\n",
        "bmi = df['BMI'].values\n",
        "outcome = df['Outcome'].values"
      ],
      "metadata": {
        "colab": {
          "base_uri": "https://localhost:8080/"
        },
        "id": "frh1Uf6rVgM1",
        "outputId": "7b3c572b-d2f3-4d00-ef05-99911cecf54e"
      },
      "execution_count": null,
      "outputs": [
        {
          "output_type": "stream",
          "name": "stdout",
          "text": [
            "NumPy array shape: (768, 9)\n",
            "Data type: float64\n",
            "[148  85 183  89 137 116  78 115 197 125 110 168 139 189 166 100 118 107\n",
            " 103 115 126  99 196 119 143 125 147  97 145 117 109 158  88  92 122 103\n",
            " 138 102  90 111 180 133 106 171 159 180 146  71 103 105 103 101  88 176\n",
            " 150  73 187 100 146 105  84 133  44 141 114  99 109 109  95 146 100 139\n",
            " 126 129  79   0  62  95 131 112 113  74  83 101 137 110 106 100 136 107\n",
            "  80 123  81 134 142 144  92  71  93 122 163 151 125  81  85 126  96 144\n",
            "  83  95 171 155  89  76 160 146 124  78  97  99 162 111 107 132 113  88\n",
            " 120 118 117 105 173 122 170  84  96 125 100  93 129 105 128 106 108 108\n",
            " 154 102  57 106 147  90 136 114 156 153 188 152  99 109  88 163 151 102\n",
            " 114 100 131 104 148 120 110 111 102 134  87  79  75 179  85 129 143 130\n",
            "  87 119   0  73 141 194 181 128 109 139 111 123 159 135  85 158 105 107\n",
            " 109 148 113 138 108  99 103 111 196 162  96 184  81 147 179 140 112 151\n",
            " 109 125  85 112 177 158 119 142 100  87 101 162 197 117 142 134  79 122\n",
            "  74 171 181 179 164 104  91  91 139 119 146 184 122 165 124 111 106 129\n",
            "  90  86  92 113 111 114 193 155 191 141  95 142 123  96 138 128 102 146\n",
            " 101 108 122  71 106 100 106 104 114 108 146 129 133 161 108 136 155 119\n",
            "  96 108  78 107 128 128 161 151 146 126 100 112 167 144  77 115 150 120\n",
            " 161 137 128 124  80 106 155 113 109 112  99 182 115 194 129 112 124 152\n",
            " 112 157 122 179 102 105 118  87 180 106  95 165 117 115 152 178 130  95\n",
            "   0 122  95 126 139 116  99   0  92 137  61  90  90 165 125 129  88 196\n",
            " 189 158 103 146 147  99 124 101  81 133 173 118  84 105 122 140  98  87\n",
            " 156  93 107 105 109  90 125 119 116 105 144 100 100 166 131 116 158 127\n",
            "  96 131  82 193  95 137 136  72 168 123 115 101 197 172 102 112 143 143\n",
            " 138 173  97 144  83 129 119  94 102 115 151 184  94 181 135  95  99  89\n",
            "  80 139  90 141 140 147  97 107 189  83 117 108 117 180 100  95 104 120\n",
            "  82 134  91 119 100 175 135  86 148 134 120  71  74  88 115 124  74  97\n",
            " 120 154 144 137 119 136 114 137 105 114 126 132 158 123  85  84 145 135\n",
            " 139 173  99 194  83  89  99 125  80 166 110  81 195 154 117  84   0  94\n",
            "  96  75 180 130  84 120  84 139  91  91  99 163 145 125  76 129  68 124\n",
            " 114 130 125  87  97 116 117 111 122 107  86  91  77 132 105  57 127 129\n",
            " 100 128  90  84  88 186 187 131 164 189 116  84 114  88  84 124  97 110\n",
            " 103  85 125 198  87  99  91  95  99  92 154 121  78 130 111  98 143 119\n",
            " 108 118 133 197 151 109 121 100 124  93 143 103 176  73 111 112 132  82\n",
            " 123 188  67  89 173 109 108  96 124 150 183 124 181  92 152 111 106 174\n",
            " 168 105 138 106 117  68 112 119 112  92 183  94 108  90 125 132 128  94\n",
            " 114 102 111 128  92 104 104  94  97 100 102 128 147  90 103 157 167 179\n",
            " 136 107  91 117 123 120 106 155 101 120 127  80 162 199 167 145 115 112\n",
            " 145 111  98 154 165  99  68 123  91 195 156  93 121 101  56 162  95 125\n",
            " 136 129 130 107 140 144 107 158 121 129  90 142 169  99 127 118 122 125\n",
            " 168 129 110  80 115 127 164  93 158 126 129 134 102 187 173  94 108  97\n",
            "  83 114 149 117 111 112 116 141 175  92 130 120 174 106 105  95 126  65\n",
            "  99 102 120 102 109 140 153 100 147  81 187 162 136 121 108 181 154 128\n",
            " 137 123 106 190  88 170  89 101 122 121 126  93]\n"
          ]
        }
      ]
    },
    {
      "cell_type": "code",
      "source": [
        "print(\"Glucose - Mean:\", np.mean(glucose))\n",
        "print(\"Glucose - Median:\", np.median(glucose))\n",
        "print(\"Glucose - Std:\", np.std(glucose))\n",
        "print(\"Glucose - Min/Max:\", np.min(glucose), np.max(glucose))\n",
        "\n",
        "# BMI statistics\n",
        "print(\"\\nBMI - Mean:\", np.mean(bmi))\n",
        "print(\"BMI - 25th percentile:\", np.percentile(bmi, 25))\n",
        "print(\"BMI - 75th percentile:\", np.percentile(bmi, 75))"
      ],
      "metadata": {
        "colab": {
          "base_uri": "https://localhost:8080/"
        },
        "id": "7lQs0Lq9VymM",
        "outputId": "7e3a9bcf-8f6e-42ed-b574-e994ed1c4cf5"
      },
      "execution_count": null,
      "outputs": [
        {
          "output_type": "stream",
          "name": "stdout",
          "text": [
            "Glucose - Mean: 120.89453125\n",
            "Glucose - Median: 117.0\n",
            "Glucose - Std: 31.95179590820272\n",
            "Glucose - Min/Max: 0 199\n",
            "\n",
            "BMI - Mean: 31.992578124999998\n",
            "BMI - 25th percentile: 27.3\n",
            "BMI - 75th percentile: 36.6\n"
          ]
        }
      ]
    },
    {
      "cell_type": "code",
      "source": [
        "# Find patients with high glucose (>140)\n",
        "high_glucose = glucose > 140\n",
        "print(\"Patients with high glucose:\", np.sum(high_glucose))\n",
        "\n",
        "# Find patients with normal BMI (18.5-24.9)\n",
        "normal_bmi = (bmi >= 18.5) & (bmi < 25)\n",
        "print(\"Patients with normal BMI:\", np.sum(normal_bmi))\n",
        "\n",
        "# Combine conditions\n",
        "healthy_patients = (glucose <= 140) & (bmi < 25)\n",
        "print(\"Healthy patients:\", np.sum(healthy_patients))"
      ],
      "metadata": {
        "colab": {
          "base_uri": "https://localhost:8080/"
        },
        "id": "Cp8MSw9OV5kA",
        "outputId": "9ecccaeb-35ad-4d5e-dd23-0d8695e43220"
      },
      "execution_count": null,
      "outputs": [
        {
          "output_type": "stream",
          "name": "stdout",
          "text": [
            "Patients with high glucose: 192\n",
            "Patients with normal BMI: 102\n",
            "Healthy patients: 107\n"
          ]
        }
      ]
    },
    {
      "cell_type": "code",
      "source": [
        "# Quick overview\n",
        "print(df.head())\n",
        "print(\"\\nDataset info:\")\n",
        "print(df.info())\n",
        "\n",
        "# Basic statistics\n",
        "print(\"\\nDescriptive statistics:\")\n",
        "print(df.describe())"
      ],
      "metadata": {
        "colab": {
          "base_uri": "https://localhost:8080/"
        },
        "id": "s2M2ntq5V_mO",
        "outputId": "729c5486-cff8-48c1-b5a1-2f0752a71258"
      },
      "execution_count": null,
      "outputs": [
        {
          "output_type": "stream",
          "name": "stdout",
          "text": [
            "   Pregnancies  Glucose  BloodPressure  SkinThickness  Insulin   BMI  \\\n",
            "0            6      148             72             35        0  33.6   \n",
            "1            1       85             66             29        0  26.6   \n",
            "2            8      183             64              0        0  23.3   \n",
            "3            1       89             66             23       94  28.1   \n",
            "4            0      137             40             35      168  43.1   \n",
            "\n",
            "   DiabetesPedigreeFunction  Age  Outcome  \n",
            "0                     0.627   50        1  \n",
            "1                     0.351   31        0  \n",
            "2                     0.672   32        1  \n",
            "3                     0.167   21        0  \n",
            "4                     2.288   33        1  \n",
            "\n",
            "Dataset info:\n",
            "<class 'pandas.core.frame.DataFrame'>\n",
            "RangeIndex: 768 entries, 0 to 767\n",
            "Data columns (total 9 columns):\n",
            " #   Column                    Non-Null Count  Dtype  \n",
            "---  ------                    --------------  -----  \n",
            " 0   Pregnancies               768 non-null    int64  \n",
            " 1   Glucose                   768 non-null    int64  \n",
            " 2   BloodPressure             768 non-null    int64  \n",
            " 3   SkinThickness             768 non-null    int64  \n",
            " 4   Insulin                   768 non-null    int64  \n",
            " 5   BMI                       768 non-null    float64\n",
            " 6   DiabetesPedigreeFunction  768 non-null    float64\n",
            " 7   Age                       768 non-null    int64  \n",
            " 8   Outcome                   768 non-null    int64  \n",
            "dtypes: float64(2), int64(7)\n",
            "memory usage: 54.1 KB\n",
            "None\n",
            "\n",
            "Descriptive statistics:\n",
            "       Pregnancies     Glucose  BloodPressure  SkinThickness     Insulin  \\\n",
            "count   768.000000  768.000000     768.000000     768.000000  768.000000   \n",
            "mean      3.845052  120.894531      69.105469      20.536458   79.799479   \n",
            "std       3.369578   31.972618      19.355807      15.952218  115.244002   \n",
            "min       0.000000    0.000000       0.000000       0.000000    0.000000   \n",
            "25%       1.000000   99.000000      62.000000       0.000000    0.000000   \n",
            "50%       3.000000  117.000000      72.000000      23.000000   30.500000   \n",
            "75%       6.000000  140.250000      80.000000      32.000000  127.250000   \n",
            "max      17.000000  199.000000     122.000000      99.000000  846.000000   \n",
            "\n",
            "              BMI  DiabetesPedigreeFunction         Age     Outcome  \n",
            "count  768.000000                768.000000  768.000000  768.000000  \n",
            "mean    31.992578                  0.471876   33.240885    0.348958  \n",
            "std      7.884160                  0.331329   11.760232    0.476951  \n",
            "min      0.000000                  0.078000   21.000000    0.000000  \n",
            "25%     27.300000                  0.243750   24.000000    0.000000  \n",
            "50%     32.000000                  0.372500   29.000000    0.000000  \n",
            "75%     36.600000                  0.626250   41.000000    1.000000  \n",
            "max     67.100000                  2.420000   81.000000    1.000000  \n"
          ]
        }
      ]
    },
    {
      "cell_type": "code",
      "source": [
        "# Select single column\n",
        "ages = df['Age']\n",
        "print(\"Average age:\", ages.mean())\n",
        "\n",
        "# Select multiple columns\n",
        "health_metrics = df[['Glucose', 'BMI', 'BloodPressure']]\n",
        "print(health_metrics.head())\n",
        "\n",
        "# Filter rows\n",
        "diabetic_patients = df[df['Outcome'] == 1]\n",
        "print(\"Number of diabetic patients:\", len(diabetic_patients))\n",
        "\n",
        "# Complex filtering\n",
        "young_diabetic = df[(df['Age'] < 30) & (df['Outcome'] == 1)]\n",
        "print(\"Young diabetic patients:\", len(young_diabetic))"
      ],
      "metadata": {
        "colab": {
          "base_uri": "https://localhost:8080/"
        },
        "id": "C3mzd-nIWJo7",
        "outputId": "fd6d415c-80f7-4afb-feca-3f182f3443ed"
      },
      "execution_count": null,
      "outputs": [
        {
          "output_type": "stream",
          "name": "stdout",
          "text": [
            "Average age: 33.240885416666664\n",
            "   Glucose   BMI  BloodPressure\n",
            "0      148  33.6             72\n",
            "1       85  26.6             66\n",
            "2      183  23.3             64\n",
            "3       89  28.1             66\n",
            "4      137  43.1             40\n",
            "Number of diabetic patients: 268\n",
            "Young diabetic patients: 84\n"
          ]
        }
      ]
    },
    {
      "cell_type": "code",
      "source": [
        "print(\"Missing values in each column:\")\n",
        "print(df.isnull().sum())\n",
        "\n",
        "# In this dataset, 0 might mean missing data for some columns\n",
        "# Let's check where we have 0 values\n",
        "print(\"\\nZero values in each column:\")\n",
        "print((df == 0).sum())"
      ],
      "metadata": {
        "colab": {
          "base_uri": "https://localhost:8080/"
        },
        "id": "v0Yhj-9VWPd0",
        "outputId": "26311ddf-f4a2-401e-fda5-39e8a7c21d0a"
      },
      "execution_count": null,
      "outputs": [
        {
          "output_type": "stream",
          "name": "stdout",
          "text": [
            "Missing values in each column:\n",
            "Pregnancies                 0\n",
            "Glucose                     0\n",
            "BloodPressure               0\n",
            "SkinThickness               0\n",
            "Insulin                     0\n",
            "BMI                         0\n",
            "DiabetesPedigreeFunction    0\n",
            "Age                         0\n",
            "Outcome                     0\n",
            "HighGlucose                 0\n",
            "HighBMI                     0\n",
            "HighBP                      0\n",
            "RiskScore                   0\n",
            "dtype: int64\n",
            "\n",
            "Zero values in each column:\n",
            "Pregnancies                 111\n",
            "Glucose                       5\n",
            "BloodPressure                 0\n",
            "SkinThickness               227\n",
            "Insulin                     374\n",
            "BMI                          11\n",
            "DiabetesPedigreeFunction      0\n",
            "Age                           0\n",
            "Outcome                     500\n",
            "HighGlucose                 576\n",
            "HighBMI                     303\n",
            "HighBP                      603\n",
            "RiskScore                   229\n",
            "dtype: int64\n"
          ]
        }
      ]
    },
    {
      "cell_type": "code",
      "source": [
        "# BMI has 11 zero values that should be missing (BMI can't be 0!)\n",
        "# Step 1: Check zeros first\n",
        "print(\"Zero values in BMI:\", (df['BMI'] == 0).sum())\n",
        "\n",
        "# Step 2: Replace 0 with NaN (missing) - IMPORTANT: use np.nan\n",
        "df['BMI'] = df['BMI'].replace(0, np.nan)\n",
        "\n",
        "# Step 3: Check that replacement worked\n",
        "print(\"Missing values after replacement:\", df['BMI'].isnull().sum())\n",
        "\n",
        "# Step 4: Calculate the average (ignoring missing values)\n",
        "bmi_average = df['BMI'].mean()\n",
        "print(\"Average BMI:\", round(bmi_average, 1))\n",
        "\n",
        "# Step 5: Fill missing values with average - SUPER EASY!\n",
        "df['BMI'] = df['BMI'].fillna(bmi_average)\n",
        "\n",
        "# Step 6: Final check - should be 0 missing values now\n",
        "print(\"Missing values after filling:\", df['BMI'].isnull().sum())\n",
        "print(\"Zero values after filling:\", (df['BMI'] == 0).sum())\n",
        "\n",
        "# Step 7: Show before and after\n",
        "print(\"\\nBMI Summary after fixing:\")\n",
        "print(\"Min BMI:\", round(df['BMI'].min(), 1))\n",
        "print(\"Max BMI:\", round(df['BMI'].max(), 1))\n",
        "print(\"Average BMI:\", round(df['BMI'].mean(), 1))"
      ],
      "metadata": {
        "colab": {
          "base_uri": "https://localhost:8080/"
        },
        "id": "UoEgywoIaFPb",
        "outputId": "da4438b4-19d5-4ce2-9119-a966bf754191"
      },
      "execution_count": null,
      "outputs": [
        {
          "output_type": "stream",
          "name": "stdout",
          "text": [
            "Zero values in BMI: 11\n",
            "Missing values after replacement: 11\n",
            "Average BMI: 32.5\n",
            "Missing values after filling: 0\n",
            "Zero values after filling: 0\n",
            "\n",
            "BMI Summary after fixing:\n",
            "Min BMI: 18.2\n",
            "Max BMI: 67.1\n",
            "Average BMI: 32.5\n"
          ]
        }
      ]
    },
    {
      "cell_type": "code",
      "source": [
        "# Do the same for other columns that have impossible zeros\n",
        "columns_to_fix = ['BloodPressure', 'Glucose', 'SkinThickness']\n",
        "\n",
        "for column in columns_to_fix:\n",
        "    # Step 1: Check zeros first\n",
        "    zeros_before = (df[column] == 0).sum()\n",
        "    print(f\"\\n{column} - Zero values before: {zeros_before}\")\n",
        "\n",
        "    # Step 2: Replace 0 with missing (np.nan)\n",
        "    df[column] = df[column].replace(0, np.nan)\n",
        "\n",
        "    # Step 3: Check replacement worked\n",
        "    missing_after = df[column].isnull().sum()\n",
        "    print(f\"{column} - Missing values after replacement: {missing_after}\")\n",
        "\n",
        "    # Step 4: Fill with average\n",
        "    average_value = df[column].mean()\n",
        "    df[column] = df[column].fillna(average_value)\n",
        "\n",
        "    # Step 5: Final check\n",
        "    print(f\"{column} - filled with average: {average_value:.1f}\")\n",
        "    print(f\"{column} - Missing values after filling: {df[column].isnull().sum()}\")"
      ],
      "metadata": {
        "colab": {
          "base_uri": "https://localhost:8080/"
        },
        "id": "ZBkCZnFOa5H6",
        "outputId": "bb7f616c-5711-44de-85cf-50aee30a5884"
      },
      "execution_count": null,
      "outputs": [
        {
          "output_type": "stream",
          "name": "stdout",
          "text": [
            "\n",
            "BloodPressure - Zero values before: 0\n",
            "BloodPressure - Missing values after replacement: 0\n",
            "BloodPressure - filled with average: 72.4\n",
            "BloodPressure - Missing values after filling: 0\n",
            "\n",
            "Glucose - Zero values before: 5\n",
            "Glucose - Missing values after replacement: 5\n",
            "Glucose - filled with average: 121.7\n",
            "Glucose - Missing values after filling: 0\n",
            "\n",
            "SkinThickness - Zero values before: 227\n",
            "SkinThickness - Missing values after replacement: 227\n",
            "SkinThickness - filled with average: 29.2\n",
            "SkinThickness - Missing values after filling: 0\n"
          ]
        }
      ]
    },
    {
      "cell_type": "code",
      "source": [
        "# Compare diabetic vs non-diabetic patients\n",
        "diabetic_patients = df[df['Outcome'] == 1]\n",
        "healthy_patients = df[df['Outcome'] == 0]\n",
        "\n",
        "print(\"Diabetic patients - Average age:\", diabetic_patients['Age'].mean())\n",
        "print(\"Healthy patients - Average age:\", healthy_patients['Age'].mean())\n",
        "\n",
        "print(\"Diabetic patients - Average glucose:\", diabetic_patients['Glucose'].mean())\n",
        "print(\"Healthy patients - Average glucose:\", healthy_patients['Glucose'].mean())"
      ],
      "metadata": {
        "colab": {
          "base_uri": "https://localhost:8080/"
        },
        "id": "tJQ0iwqoa9EE",
        "outputId": "15d8d593-29a1-4a88-ab2a-5153c8644d04"
      },
      "execution_count": null,
      "outputs": [
        {
          "output_type": "stream",
          "name": "stdout",
          "text": [
            "Diabetic patients - Average age: 37.06716417910448\n",
            "Healthy patients - Average age: 31.19\n",
            "Diabetic patients - Average glucose: 142.16557285655603\n",
            "Healthy patients - Average glucose: 110.71012057667103\n"
          ]
        }
      ]
    },
    {
      "cell_type": "code",
      "source": [
        "# Group by outcome and get averages\n",
        "summary = df.groupby('Outcome')[['Age', 'Glucose', 'BMI']].mean()\n",
        "print(\"Summary by diabetes status:\")\n",
        "print(summary)"
      ],
      "metadata": {
        "colab": {
          "base_uri": "https://localhost:8080/"
        },
        "id": "hfKysdgobEwI",
        "outputId": "938507a2-6039-4610-cd8c-e3572b821adb"
      },
      "execution_count": null,
      "outputs": [
        {
          "output_type": "stream",
          "name": "stdout",
          "text": [
            "Summary by diabetes status:\n",
            "               Age     Glucose        BMI\n",
            "Outcome                                  \n",
            "0        31.190000  110.710121  30.888434\n",
            "1        37.067164  142.165573  35.384757\n"
          ]
        }
      ]
    },
    {
      "cell_type": "code",
      "source": [
        "# TASK: Find patients with highest and lowest BMI\n",
        "\n",
        "# Find highest BMI\n",
        "highest_bmi = df['BMI'].max()\n",
        "patient_highest = df[df['BMI'] == highest_bmi]\n",
        "print(\"Highest BMI:\", highest_bmi)\n",
        "print(\"Patient with highest BMI:\")\n",
        "print(patient_highest[['Age', 'BMI', 'Outcome']])\n",
        "\n",
        "# Find lowest BMI\n",
        "lowest_bmi = df['BMI'].min()\n",
        "patient_lowest = df[df['BMI'] == lowest_bmi]\n",
        "print(\"\\nLowest BMI:\", lowest_bmi)\n",
        "print(\"Patient with lowest BMI:\")\n",
        "print(patient_lowest[['Age', 'BMI', 'Outcome']])"
      ],
      "metadata": {
        "colab": {
          "base_uri": "https://localhost:8080/"
        },
        "id": "VGq-x6osbImN",
        "outputId": "98fe679b-57b6-4167-826a-64333bc4c028"
      },
      "execution_count": null,
      "outputs": [
        {
          "output_type": "stream",
          "name": "stdout",
          "text": [
            "Highest BMI: 67.1\n",
            "Patient with highest BMI:\n",
            "     Age   BMI  Outcome\n",
            "177   26  67.1        1\n",
            "\n",
            "Lowest BMI: 18.2\n",
            "Patient with lowest BMI:\n",
            "     Age   BMI  Outcome\n",
            "418   27  18.2        0\n",
            "438   21  18.2        0\n",
            "526   21  18.2        0\n"
          ]
        }
      ]
    },
    {
      "cell_type": "code",
      "source": [
        "# Count how many patients in different age groups\n",
        "\n",
        "# Create age groups\n",
        "young = df[df['Age'] < 30]\n",
        "middle = df[(df['Age'] >= 30) & (df['Age'] < 50)]\n",
        "senior = df[df['Age'] >= 50]\n",
        "\n",
        "print(\"Age Groups:\")\n",
        "print(\"Young (under 30):\", len(young))\n",
        "print(\"Middle (30-49):\", len(middle))\n",
        "print(\"Senior (50+):\", len(senior))\n",
        "\n",
        "# How many have diabetes in each group?\n",
        "young_diabetic = young[young['Outcome'] == 1]\n",
        "middle_diabetic = middle[middle['Outcome'] == 1]\n",
        "senior_diabetic = senior[senior['Outcome'] == 1]\n",
        "\n",
        "print(\"\\nDiabetes in each age group:\")\n",
        "print(\"Young with diabetes:\", len(young_diabetic))\n",
        "print(\"Middle with diabetes:\", len(middle_diabetic))\n",
        "print(\"Senior with diabetes:\", len(senior_diabetic))"
      ],
      "metadata": {
        "colab": {
          "base_uri": "https://localhost:8080/"
        },
        "id": "SRdXLEC8bTqc",
        "outputId": "ce2ef701-683c-46a5-82f2-8c99e43e6e1f"
      },
      "execution_count": null,
      "outputs": [
        {
          "output_type": "stream",
          "name": "stdout",
          "text": [
            "Age Groups:\n",
            "Young (under 30): 396\n",
            "Middle (30-49): 283\n",
            "Senior (50+): 89\n",
            "\n",
            "Diabetes in each age group:\n",
            "Young with diabetes: 84\n",
            "Middle with diabetes: 141\n",
            "Senior with diabetes: 43\n"
          ]
        }
      ]
    },
    {
      "cell_type": "code",
      "source": [
        "# Create a simple health score\n",
        "# High glucose = -1 point, Normal glucose = +1 point\n",
        "# High BMI = -1 point, Normal BMI = +1 point\n",
        "\n",
        "# Create health score\n",
        "df['HealthScore'] = 0\n",
        "\n",
        "# Add points for normal glucose (under 140)\n",
        "df.loc[df['Glucose'] < 140, 'HealthScore'] += 1\n",
        "df.loc[df['Glucose'] >= 140, 'HealthScore'] -= 1\n",
        "\n",
        "# Add points for normal BMI (under 30)\n",
        "df.loc[df['BMI'] < 30, 'HealthScore'] += 1\n",
        "df.loc[df['BMI'] >= 30, 'HealthScore'] -= 1\n",
        "\n",
        "# Show results\n",
        "print(\"Health Score Distribution:\")\n",
        "print(df['HealthScore'].value_counts().sort_index())\n",
        "\n",
        "# Show average health score by diabetes status\n",
        "health_by_outcome = df.groupby('Outcome')['HealthScore'].mean()\n",
        "print(\"\\nAverage Health Score:\")\n",
        "print(\"Healthy patients:\", health_by_outcome[0])\n",
        "print(\"Diabetic patients:\", health_by_outcome[1])"
      ],
      "metadata": {
        "colab": {
          "base_uri": "https://localhost:8080/"
        },
        "id": "2mwQAQsqbZo0",
        "outputId": "8e5056f6-095a-4a83-bff3-657d11bff956"
      },
      "execution_count": null,
      "outputs": [
        {
          "output_type": "stream",
          "name": "stdout",
          "text": [
            "Health Score Distribution:\n",
            "HealthScore\n",
            "-2    154\n",
            " 0    372\n",
            " 2    242\n",
            "Name: count, dtype: int64\n",
            "\n",
            "Average Health Score:\n",
            "Healthy patients: 0.704\n",
            "Diabetic patients: -0.6567164179104478\n"
          ]
        }
      ]
    }
  ]
}
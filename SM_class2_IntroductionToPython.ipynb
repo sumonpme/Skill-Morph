{
  "nbformat": 4,
  "nbformat_minor": 0,
  "metadata": {
    "colab": {
      "provenance": [],
      "authorship_tag": "ABX9TyPQYfA9K2A40zV0Yn8ZGZj7",
      "include_colab_link": true
    },
    "kernelspec": {
      "name": "python3",
      "display_name": "Python 3"
    },
    "language_info": {
      "name": "python"
    }
  },
  "cells": [
    {
      "cell_type": "markdown",
      "metadata": {
        "id": "view-in-github",
        "colab_type": "text"
      },
      "source": [
        "<a href=\"https://colab.research.google.com/github/sumonpme/Skill-Morph/blob/main/SM_class2_IntroductionToPython.ipynb\" target=\"_parent\"><img src=\"https://colab.research.google.com/assets/colab-badge.svg\" alt=\"Open In Colab\"/></a>"
      ]
    },
    {
      "cell_type": "markdown",
      "source": [
        "2.1.Create variables for your name, age, and favorite color, then print them with descriptive labels."
      ],
      "metadata": {
        "id": "1BBTd-z929II"
      }
    },
    {
      "cell_type": "code",
      "execution_count": 2,
      "metadata": {
        "id": "GTrT__n3GfgY",
        "colab": {
          "base_uri": "https://localhost:8080/"
        },
        "outputId": "5ab561af-8c64-416c-a09a-172b4ddd5937"
      },
      "outputs": [
        {
          "output_type": "stream",
          "name": "stdout",
          "text": [
            "My Name is: AHMED\n",
            "I am 30 years old\n",
            "My Fav_color is: GREEN\n"
          ]
        }
      ],
      "source": [
        "Name = 'AHMED'\n",
        "Age = 30\n",
        "Fav_color = 'GREEN'\n",
        "# Print the variables\n",
        "print('My Name is:', Name)\n",
        "print('I am', Age, 'years old')\n",
        "print('My Fav_color is:', Fav_color)"
      ]
    },
    {
      "cell_type": "markdown",
      "source": [
        "2.2. Create one variable of each type and use the type() function to verify its type."
      ],
      "metadata": {
        "id": "rS3ME8zO6pEI"
      }
    },
    {
      "cell_type": "code",
      "source": [
        "Name= \"ahmed\"\n",
        "Age= 30\n",
        "results= 79.5\n",
        "Student_status= True\n",
        "punctuality=None\n",
        "print(type(Name))\n",
        "print(type(Age))\n",
        "print(type(results))\n",
        "print(type(Student_status))\n",
        "print(type(punctuality))\n"
      ],
      "metadata": {
        "colab": {
          "base_uri": "https://localhost:8080/"
        },
        "id": "1FRMN01x7Lem",
        "outputId": "6320abbc-0af7-4440-f236-33821bf41bc3"
      },
      "execution_count": 4,
      "outputs": [
        {
          "output_type": "stream",
          "name": "stdout",
          "text": [
            "<class 'str'>\n",
            "<class 'int'>\n",
            "<class 'float'>\n",
            "<class 'bool'>\n",
            "<class 'NoneType'>\n"
          ]
        }
      ]
    },
    {
      "cell_type": "markdown",
      "source": [
        "2.3.Calculate the area and perimeter of a rectangle with length 7 and width 5."
      ],
      "metadata": {
        "id": "RYmFLkUc-Ywg"
      }
    },
    {
      "cell_type": "code",
      "source": [
        "Lenth = 72\n",
        "Width = 50\n",
        "Area = Lenth * Width\n",
        "Perimeter = 2 * (Lenth + Width)\n",
        "print('Area of the rectangle =', Area)\n",
        "print('Perimeter of the rectangle =', Perimeter)"
      ],
      "metadata": {
        "colab": {
          "base_uri": "https://localhost:8080/"
        },
        "id": "bqzJSB4C-wnG",
        "outputId": "c0a03e24-268e-4458-c7ff-a194f470e0ea"
      },
      "execution_count": 6,
      "outputs": [
        {
          "output_type": "stream",
          "name": "stdout",
          "text": [
            "Area of the rectangle = 3600\n",
            "Perimeter of the rectangle = 244\n"
          ]
        }
      ]
    },
    {
      "cell_type": "markdown",
      "source": [
        "2.4.  Create a list of 5 Bangladeshi foods, then access the first and\n",
        "last elements."
      ],
      "metadata": {
        "id": "1e0z75JtAc4X"
      }
    },
    {
      "cell_type": "code",
      "source": [
        "BD_foods = ['rice', 'potato mash', 'biriyani', 'fish curry', 'khichuri']\n",
        "print(BD_foods)\n",
        "print(BD_foods[0])\n",
        "print(BD_foods[-1])\n"
      ],
      "metadata": {
        "colab": {
          "base_uri": "https://localhost:8080/"
        },
        "id": "lCZ8PBltBAjN",
        "outputId": "86a297b1-6eef-4bea-ae3d-41b7082179dd"
      },
      "execution_count": 8,
      "outputs": [
        {
          "output_type": "stream",
          "name": "stdout",
          "text": [
            "['rice', 'potato mash', 'biriyani', 'fish curry', 'khichuri']\n",
            "rice\n",
            "khichuri\n"
          ]
        }
      ]
    },
    {
      "cell_type": "markdown",
      "source": [
        "2.5  Create a list of 5 numbers, add a new number, remove one, and then sort the list."
      ],
      "metadata": {
        "id": "TvJyLVG1B6Yq"
      }
    },
    {
      "cell_type": "code",
      "source": [
        "Five_numbers = [10, 20, 30, 40, 50]\n",
        "print(Five_numbers)\n",
        "Five_numbers.append(60)\n",
        "print(Five_numbers)\n",
        "Five_numbers.remove(30)\n",
        "print(Five_numbers)\n",
        "Five_numbers.sort()\n",
        "print(Five_numbers)"
      ],
      "metadata": {
        "colab": {
          "base_uri": "https://localhost:8080/"
        },
        "id": "N1QeughDCQG9",
        "outputId": "84af7e26-e212-4d7f-998a-3426b9d62dec"
      },
      "execution_count": 9,
      "outputs": [
        {
          "output_type": "stream",
          "name": "stdout",
          "text": [
            "[10, 20, 30, 40, 50]\n",
            "[10, 20, 30, 40, 50, 60]\n",
            "[10, 20, 40, 50, 60]\n",
            "[10, 20, 40, 50, 60]\n"
          ]
        }
      ]
    },
    {
      "cell_type": "markdown",
      "source": [
        "2.6  Create a dictionary about yourself with at least 4 key-value pairs."
      ],
      "metadata": {
        "id": "6kVdF-GLC7s2"
      }
    },
    {
      "cell_type": "code",
      "source": [
        "# Create a dictionary\n",
        "Myself= {\n",
        "    \"Name\": \"AHMED\",\n",
        "    \"Age\" : 30 ,\n",
        "    \"Occupation\" : \"Student\" ,\n",
        "    \"Hobby\" : \"Playing Cricket\" ,\n",
        "}\n",
        "print(Myself)\n",
        "print(Myself[\"Name\"])\n",
        "print(Myself[\"Age\"])\n",
        "print(Myself[\"Occupation\"])\n",
        "print(Myself[\"Hobby\"])\n"
      ],
      "metadata": {
        "colab": {
          "base_uri": "https://localhost:8080/"
        },
        "id": "xgx6yVX2DTTg",
        "outputId": "55770501-0158-4feb-b547-a3e9c42e9e13"
      },
      "execution_count": 13,
      "outputs": [
        {
          "output_type": "stream",
          "name": "stdout",
          "text": [
            "{'Name': 'AHMED', 'Age': 30, 'Occupation': 'Student', 'Hobby': 'Playing Cricket'}\n",
            "AHMED\n",
            "30\n",
            "Student\n",
            "Playing Cricket\n"
          ]
        }
      ]
    },
    {
      "cell_type": "markdown",
      "source": [
        "2.7  Create a tuple with the latitude and longitude of a famous place in Bangladesh."
      ],
      "metadata": {
        "id": "UMWBTlKZGGKu"
      }
    },
    {
      "cell_type": "code",
      "source": [
        "#Creating a tuple\n",
        "Longitude = 34.6\n",
        "latitude = 20.4\n",
        "Famous_place = (Longitude, latitude)\n",
        "print(Famous_place)"
      ],
      "metadata": {
        "colab": {
          "base_uri": "https://localhost:8080/"
        },
        "id": "cMWMuKsXGVbE",
        "outputId": "41161611-f6a0-4585-e752-f0366e8122b5"
      },
      "execution_count": 14,
      "outputs": [
        {
          "output_type": "stream",
          "name": "stdout",
          "text": [
            "(34.6, 20.4)\n"
          ]
        }
      ]
    },
    {
      "cell_type": "markdown",
      "source": [
        "2.8. Create two sets of colors and find their union and intersec"
      ],
      "metadata": {
        "id": "0dt5rXJeHwdP"
      }
    },
    {
      "cell_type": "code",
      "source": [
        "# Create sets\n",
        "Color_1={\"red\",\"green\",\"blue\",\"white\"}\n",
        "Color_2={\"yellow\",\"green\",\"pink\",\"black\"}\n",
        "print(Color_1)\n",
        "print(Color_2)\n",
        "# Union\n",
        "Union=Color_1|Color_2\n",
        "print(Union)\n",
        "# Intersect\n",
        "Intersection=Color_1&Color_2\n",
        "print(Intersection)\n"
      ],
      "metadata": {
        "colab": {
          "base_uri": "https://localhost:8080/"
        },
        "id": "TLMNA2EkIMMd",
        "outputId": "3b5c56b0-be1f-4d27-d834-42c9545fa79a"
      },
      "execution_count": 15,
      "outputs": [
        {
          "output_type": "stream",
          "name": "stdout",
          "text": [
            "{'green', 'blue', 'white', 'red'}\n",
            "{'black', 'green', 'yellow', 'pink'}\n",
            "{'green', 'red', 'pink', 'blue', 'yellow', 'black', 'white'}\n",
            "{'green'}\n"
          ]
        }
      ]
    },
    {
      "cell_type": "markdown",
      "source": [
        "2.9  Write a program that checks if a number is positive, negative, or zero."
      ],
      "metadata": {
        "id": "LiqQTqrAJ171"
      }
    },
    {
      "cell_type": "code",
      "source": [
        "Number=int(input(\"Enter a number:\"))\n",
        "\n",
        "if Number>0:\n",
        "    print(\"Number is positive\")\n",
        "elif Number<0:\n",
        "    print(\"Number is negative\")\n",
        "else:\n",
        "    print(\"Number is zero\")"
      ],
      "metadata": {
        "colab": {
          "base_uri": "https://localhost:8080/"
        },
        "id": "Vuo9xKKDKR43",
        "outputId": "db6339bf-6cfa-4dcf-9ebe-b9d89739b74c"
      },
      "execution_count": 21,
      "outputs": [
        {
          "output_type": "stream",
          "name": "stdout",
          "text": [
            "Enter a number:15\n",
            "Number is positive\n"
          ]
        }
      ]
    },
    {
      "cell_type": "markdown",
      "source": [],
      "metadata": {
        "id": "Zsbn5SVyGkM7"
      }
    },
    {
      "cell_type": "markdown",
      "source": [
        "2.10  Write a program that checks eligibility for a discount (student AND under 25, OR senior over 60)."
      ],
      "metadata": {
        "id": "3CdJ-EkVMap7"
      }
    },
    {
      "cell_type": "code",
      "source": [
        "# Check eligibility for a discount\n",
        "Person = \"student\"\n",
        "age = 45\n",
        "\n",
        "if Person == \"student\":\n",
        "  if age <= 25:\n",
        "    print('You are eligible for a discount')\n",
        "  elif age > 60:\n",
        "    print('You are eligible for a discount')\n",
        "  else:\n",
        "    print('You are not eligible for a discount')"
      ],
      "metadata": {
        "colab": {
          "base_uri": "https://localhost:8080/"
        },
        "id": "j991tuI6MsAL",
        "outputId": "e36dbc94-d8a9-4481-dd01-13ec59a44f51"
      },
      "execution_count": 23,
      "outputs": [
        {
          "output_type": "stream",
          "name": "stdout",
          "text": [
            "You are not eligible for a discount\n"
          ]
        }
      ]
    },
    {
      "cell_type": "markdown",
      "source": [
        "2.11  Write a program that prints the first 10 even numbers\n",
        "using a for or while loop."
      ],
      "metadata": {
        "id": "j39vh70ANpMV"
      }
    },
    {
      "cell_type": "code",
      "source": [
        "#Using loop\n",
        "for i in range(10,30):\n",
        "  if i%2==0:\n",
        "    print(i)"
      ],
      "metadata": {
        "colab": {
          "base_uri": "https://localhost:8080/"
        },
        "id": "VBaHuuKmOU61",
        "outputId": "92d9b7b6-b054-47d1-e50c-01ef310cc231"
      },
      "execution_count": 27,
      "outputs": [
        {
          "output_type": "stream",
          "name": "stdout",
          "text": [
            "10\n",
            "12\n",
            "14\n",
            "16\n",
            "18\n",
            "20\n",
            "22\n",
            "24\n",
            "26\n",
            "28\n"
          ]
        }
      ]
    },
    {
      "cell_type": "markdown",
      "source": [
        "2.12  Write a program that prints a simple number pyramid pattern using nested loops."
      ],
      "metadata": {
        "id": "Z06-K_o6PXVd"
      }
    },
    {
      "cell_type": "code",
      "source": [
        "for i in range(1, 6):\n",
        "    for j in range(i):\n",
        "        print(j + 1, end=\" \")\n",
        "        print(\"#\"*i)\n",
        "    print()"
      ],
      "metadata": {
        "colab": {
          "base_uri": "https://localhost:8080/"
        },
        "id": "bp9yq9mlPnVy",
        "outputId": "5c954a4b-a627-4e35-be85-94833974a40d"
      },
      "execution_count": 30,
      "outputs": [
        {
          "output_type": "stream",
          "name": "stdout",
          "text": [
            "1 #\n",
            "\n",
            "1 ##\n",
            "2 ##\n",
            "\n",
            "1 ###\n",
            "2 ###\n",
            "3 ###\n",
            "\n",
            "1 ####\n",
            "2 ####\n",
            "3 ####\n",
            "4 ####\n",
            "\n",
            "1 #####\n",
            "2 #####\n",
            "3 #####\n",
            "4 #####\n",
            "5 #####\n",
            "\n"
          ]
        }
      ]
    },
    {
      "cell_type": "markdown",
      "source": [],
      "metadata": {
        "id": "WAQXDf1-QqIz"
      }
    },
    {
      "cell_type": "markdown",
      "source": [
        "2.13  Create a function that converts temperature from Celsius to Fahrenheit using the formula: F = (C × 9/5) + 32"
      ],
      "metadata": {
        "id": "M84TljWlQsjy"
      }
    },
    {
      "cell_type": "code",
      "source": [
        "def celsius_to_fahrenheit (celsius):\n",
        "  fahrenheit = (celsius* 9/5) + 32\n",
        "  return fahrenheit\n",
        "fahrenheit = celsius_to_fahrenheit (37)\n",
        "print(f'Fahrenheit Temperature:', fahrenheit)"
      ],
      "metadata": {
        "colab": {
          "base_uri": "https://localhost:8080/"
        },
        "id": "lk8_rhHBQ47b",
        "outputId": "de29c7ca-74f0-4c73-f3a7-884daf7600ce"
      },
      "execution_count": 31,
      "outputs": [
        {
          "output_type": "stream",
          "name": "stdout",
          "text": [
            "Fahrenheit Temperature: 98.6\n"
          ]
        }
      ]
    },
    {
      "cell_type": "markdown",
      "source": [
        "2.14 Create a function with default parameters that calculates the area of a rectangle."
      ],
      "metadata": {
        "id": "WylF17heRe5C"
      }
    },
    {
      "cell_type": "code",
      "source": [
        "def rec_area (length, width):\n",
        "  area = length * width\n",
        "  return area\n",
        "area = rec_area (10,5)\n",
        "print (f\"Area of rectangle:\", area)"
      ],
      "metadata": {
        "colab": {
          "base_uri": "https://localhost:8080/"
        },
        "id": "iSagHGDRR6I6",
        "outputId": "2d4c9126-50aa-49ef-ba63-edd24b297795"
      },
      "execution_count": 32,
      "outputs": [
        {
          "output_type": "stream",
          "name": "stdout",
          "text": [
            "Area of rectangle: 50\n"
          ]
        }
      ]
    }
  ]
}
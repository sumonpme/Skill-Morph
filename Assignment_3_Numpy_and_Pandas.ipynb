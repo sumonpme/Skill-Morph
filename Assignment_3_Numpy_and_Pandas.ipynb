{
  "nbformat": 4,
  "nbformat_minor": 0,
  "metadata": {
    "colab": {
      "private_outputs": true,
      "provenance": [],
      "authorship_tag": "ABX9TyMb2UNMMFxZo0qsSLh7hE63",
      "include_colab_link": true
    },
    "kernelspec": {
      "name": "python3",
      "display_name": "Python 3"
    },
    "language_info": {
      "name": "python"
    }
  },
  "cells": [
    {
      "cell_type": "markdown",
      "metadata": {
        "id": "view-in-github",
        "colab_type": "text"
      },
      "source": [
        "<a href=\"https://colab.research.google.com/github/sumonpme/Skill-Morph/blob/main/Assignment_3_Numpy_and_Pandas.ipynb\" target=\"_parent\"><img src=\"https://colab.research.google.com/assets/colab-badge.svg\" alt=\"Open In Colab\"/></a>"
      ]
    },
    {
      "cell_type": "code",
      "execution_count": null,
      "metadata": {
        "id": "U5XVL5gtQMv-"
      },
      "outputs": [],
      "source": [
        "#Task 1.1: Data Loading and Exploration\n",
        "!pip install numpy pandas matplotlib\n",
        "import numpy as np\n",
        "import pandas as pd\n",
        "\n",
        "# Load the dataset\n",
        "#df = pd.read_csv('StudentsPerformance.csv')\n",
        "\n",
        "# Your tasks:\n",
        "# 1. Display first 10 rows\n",
        "# 2. Show dataset shape and info()\n",
        "# 3. Display unique values in each categorical column\n",
        "# 4. Show basic statistics for all score columns\n",
        "\n",
        "# Your code here:\n",
        "\n",
        "from google.colab import files\n",
        "uploaded = files.upload()\n",
        "import io\n",
        "df = pd.read_csv(io.BytesIO(uploaded['StudentsPerformance.csv']))"
      ]
    },
    {
      "cell_type": "code",
      "source": [
        "# Display first 10 row\n",
        "print(\"Show first 10 row:\\n\",df.head(10))\n",
        "\n",
        "# show shape\n",
        "print(\"Dataset Shape: \", df.shape)\n",
        "\n",
        "#show Dataset info\n",
        "print(\"\\nDataset info: \")\n",
        "print(df.info)\n",
        "\n",
        "#Display unique values\n",
        "for col in df.select_dtypes(include=['object', 'category']):\n",
        "    print(f\"Unique values in '{col}': {df[col].unique()}\")\n",
        "\n",
        "#Show basic statistics\n",
        "print(\"\\nDescriptive statistics:\")\n",
        "print(df.describe())"
      ],
      "metadata": {
        "id": "HGp5y5k0RO15"
      },
      "execution_count": null,
      "outputs": []
    },
    {
      "cell_type": "code",
      "source": [
        "from os import read\n",
        "#Task 1.2: NumPy Array Operations\n",
        "# Convert score columns to numpy arrays\n",
        "math_scores = df['math score'].values\n",
        "reading_scores = df['reading score'].values\n",
        "writing_scores = df['writing score'].values\n",
        "\n",
        "# Your tasks:\n",
        "# 1. Calculate mean, median, std, min, max for each subject using NumPy\n",
        "# 2. Find total students who scored above 80 in math\n",
        "# 3. Find total students who scored below 50 in any subject\n",
        "# 4. Calculate the overall average score across all three subjects\n",
        "\n",
        "# Expected output example:\n",
        "# Math - Mean: 66.1, Median: 66.0, Std: 15.2\n",
        "# Students with math > 80: 132\n",
        "# Students with any score < 50: 178\n",
        "\n",
        "# Your code here:\n",
        "\n",
        "print(\"Math - mean: \", np.mean(math_scores))\n",
        "print(\"Math - median: \", np.median(math_scores))\n",
        "print(\"Math - std: \", np.std(math_scores))\n",
        "print(\"Math - min/max: \", np.min(math_scores), np.max(math_scores))\n",
        "\n",
        "print(\"Reading - mean: \", np.mean(reading_scores))\n",
        "print(\"Reading - median: \", np.median(reading_scores))\n",
        "print(\"Reading - std: \", np.std(reading_scores))\n",
        "print(\"Reading - min/max: \", np.min(reading_scores), np.max(reading_scores))\n",
        "\n",
        "print(\"Writing - mean: \", np.mean(writing_scores))\n",
        "print(\"Writing - median: \", np.median(writing_scores))\n",
        "print(\"Writing - std: \", np.std(writing_scores))\n",
        "print(\"Writing - min/max: \", np.min(writing_scores), np.max(writing_scores))\n",
        "\n",
        "\n",
        "print(\"total students who scored above 80 in math: \", np.sum(math_scores>80))\n",
        "\n",
        "print(\"total students who scored below 50 in any subject: \", np.sum(reading_scores<50))\n",
        "\n",
        "\n",
        "print(\"Average Score: \" , np.mean(math_scores)+np.mean(reading_scores)+np.mean(writing_scores))"
      ],
      "metadata": {
        "id": "KRQDSRW5TNPo"
      },
      "execution_count": null,
      "outputs": []
    },
    {
      "cell_type": "code",
      "source": [
        "# Task 2.1: Identify and Handle Missing Data\n",
        "# Check the dataset for any missing values\n",
        "# Your tasks:\n",
        "# 1. Check for null values in each column using .isnull().sum()\n",
        "# 2. Check for any impossible values (scores > 100 or < 0)\n",
        "# 3. Display summary of data quality\n",
        "\n",
        "# Note: This dataset is clean, but let's verify!\n",
        "\n",
        "# Your code here:\n",
        "print(\"Null values in each column:\")\n",
        "print(df.isnull().sum())\n",
        "\n",
        "\n",
        "impossible_scores = df[(math_scores > 100) | (reading_scores > 100) | (writing_scores > 100) |\n",
        "                       (math_scores < 0) | (reading_scores < 0) | (writing_scores < 0)]\n",
        "if impossible_scores.empty:\n",
        "    print(\"No impossible values found.\")\n",
        "else:\n",
        "    print(\"Rows with impossible values:\")\n",
        "    display(impossible_scores)\n",
        "\n",
        "print(\"\\nSummary of data quality:\")\n",
        "print(\"Shape:\", df.shape)\n",
        "print(\"Data types:\\n\", df.dtypes)\n",
        "print(\"Missing values per column:\\n\", df.isnull().sum())"
      ],
      "metadata": {
        "id": "rrAwEOdYTv7_"
      },
      "execution_count": null,
      "outputs": []
    },
    {
      "cell_type": "code",
      "source": [
        "#Task 2.2: Create and Fix Missing Value\n",
        "# Artificially create missing data for practice\n",
        "\n",
        "# Your tasks:\n",
        "# 1. Make a copy of the dataset: df_practice = df.copy()\n",
        "# 2. Randomly set 50 math scores to np.nan\n",
        "# 3. Randomly set 30 writing scores to np.nan\n",
        "# 4. Fill missing math scores with the MEDIAN math score\n",
        "# 5. Fill missing writing scores with the MEAN writing score\n",
        "# 6. Verify no missing values remain\n",
        "\n",
        "# Steps to follow:\n",
        "# Step 1: Create copy and show original missing values\n",
        "df_practice = df.copy()\n",
        "print(\"Original missing values:\\n\", df_practice.isnull().sum())\n",
        "\n",
        "# Step 2: Create missing data\n",
        "np.random.seed(42)  # For reproducible results                                     '''The number 42 in np.random.seed(42) is just an arbitrary integer. You could use any integer number there.'''\n",
        "missing_math_idx = np.random.choice(df_practice.index, 50, replace=False)\n",
        "missing_writing_idx = np.random.choice(df_practice.index, 30, replace=False)\n",
        "# Continue the task...\n",
        "# Your code here:\n",
        "df_practice.loc[missing_math_idx, 'math score'] = np.nan\n",
        "df_practice.loc[missing_writing_idx, 'writing score'] = np.nan\n",
        "print(\"Missing values after adding noise:\\n\", df_practice.isnull().sum())\n",
        "df_practice['math score'] = df_practice['math score'].fillna(df_practice['math score'].median() )\n",
        "df_practice['writing score'] = df_practice['writing score'].fillna(df_practice['writing score'].mean())\n",
        "print(\"Missing values after fixing:\\n\", df_practice.isnull().sum())"
      ],
      "metadata": {
        "id": "FeXC9I1KUW-9"
      },
      "execution_count": null,
      "outputs": []
    },
    {
      "cell_type": "code",
      "source": [
        "#Task 3.1:Answer Simple Questions About Student Performance\n",
        "# Your tasks:\n",
        "# 1. Display first 5 rows using .head()\n",
        "# 2. Display last 5 rows using .tail()\n",
        "# 3. Show dataset shape using .shape\n",
        "# 4. Show column names using .columns\n",
        "# 5. Show data types using .dtypes\n",
        "# 6. Show basic info using .info()\n",
        "\n",
        "# Your code here:\n",
        "\n",
        "print(\"Display first 5 row: \\n\", df.head())\n",
        "print(\"Display last 5 row: \\n\", df.tail())\n",
        "print(\"Show dataset shape: \\n\", df.shape)\n",
        "print(\"Show columns name: \\n\", df.columns)\n",
        "print(\"Show data tpye: \\n\", df.dtypes)\n",
        "print(\"Show basic Info: \\n\", df.info())"
      ],
      "metadata": {
        "id": "NCFYsMztUnCG"
      },
      "execution_count": null,
      "outputs": []
    },
    {
      "cell_type": "code",
      "source": [
        "#Task 3.2: Basic Groupby Analysis\n",
        "# Comprehensive groupby analysis\n",
        "# Your tasks:\n",
        "\n",
        "# 1. Group by 'gender' and calculate:\n",
        "#    - Average scores in all subjects\n",
        "#    - Count of students\n",
        "\n",
        "# 2. Group by 'test preparation course' and show:\n",
        "#    - Mean scores for each subject\n",
        "#    - Show which subject benefits most from test prep\n",
        "\n",
        "# 3. Group by 'parental level of education' and calculate:\n",
        "#    - Average math score for each education level\n",
        "#    - Rank education levels by math performance\n",
        "\n",
        "# 4. Group by 'lunch' type and show:\n",
        "#    - Average scores for each subject\n",
        "#    - Count of students in each lunch category\n",
        "\n",
        "# Your code here:\n",
        "\n",
        "# Group by 'gender' and calculate:\n",
        "\n",
        "summary = df.groupby('gender')[['math score', 'writing score', 'reading score']].mean()\n",
        "print(\"Average scores in all subjects:\")\n",
        "print(summary)\n",
        "\n",
        "average = df['math score'].mean()\n",
        "\n",
        "print(average)\n",
        "\n",
        "print(\"Count of student: \\n\", df['gender'].count())\n",
        "\n",
        "\n",
        "# 2. Group by 'test preparation course' and show:\n",
        "\n",
        "show = df.groupby('test preparation course')[['math score', 'writing score', 'reading score']].mean()\n",
        "print(\"Show:\")\n",
        "print(show)"
      ],
      "metadata": {
        "id": "z1TMlMn2Ux2e"
      },
      "execution_count": null,
      "outputs": []
    },
    {
      "cell_type": "code",
      "source": [
        "#Task 3.3: Use your data analysis skills to answer these easy questions:\n",
        "\n",
        "# 1. Who performs better in math - males or females?\n",
        "#    - Calculate average math score by gender\n",
        "#    - Show the difference between male and female average\n",
        "\n",
        "# 2. Which subject do students perform best in overall?\n",
        "#    - Calculate the overall average for math, reading, and writing\n",
        "#    - Rank the subjects from highest to lowest average score\n",
        "\n",
        "# 3. What's the impact of parental education?\n",
        "#    - Find the average total score for each parental education level\n",
        "#    - Identify which education level leads to highest student performance\n",
        "mean_math_scores_by_gender = df.groupby('gender')[\"math score\"].mean()\n",
        "print(mean_math_scores_by_gender)\n",
        "print(mean_math_scores_by_gender.loc['male'] - mean_math_scores_by_gender.loc['female'])\n",
        "print(\"The gender that performs better in math is:\", mean_math_scores_by_gender.idxmax())\n",
        "print(\"\\n\\n\")\n",
        "\n",
        "student_mean_scores = df.groupby('gender')[['math score', 'reading score', 'writing score']].mean()\n",
        "print(student_mean_scores)\n",
        "print(\"The subject that students perform best in overall is:\", student_mean_scores.mean().idxmax())\n",
        "print(student_mean_scores.mean().sort_values(ascending=False))\n",
        "print(\"\\n\\n\")\n",
        "\n",
        "parental_education_scores = df.groupby('parental level of education')[['math score', 'reading score', 'writing score']].mean()\n",
        "transpose = parental_education_scores.transpose()\n",
        "print(transpose.mean().sort_values(ascending=False))\n",
        "print(transpose.mean().idxmax(), \"leads to highest student performance\")\n",
        "print(\"The some higher education level leads to highest student performance\")"
      ],
      "metadata": {
        "id": "lNPJegOGVBt9"
      },
      "execution_count": null,
      "outputs": []
    }
  ]
}